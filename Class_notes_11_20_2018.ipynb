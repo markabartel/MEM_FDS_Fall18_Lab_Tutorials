{
 "cells": [
  {
   "cell_type": "code",
   "execution_count": 1,
   "metadata": {},
   "outputs": [
    {
     "ename": "SyntaxError",
     "evalue": "invalid syntax (<ipython-input-1-2059af8f4c2a>, line 1)",
     "output_type": "error",
     "traceback": [
      "\u001b[1;36m  File \u001b[1;32m\"<ipython-input-1-2059af8f4c2a>\"\u001b[1;36m, line \u001b[1;32m1\u001b[0m\n\u001b[1;33m    Command line ineterface - run in command bar\u001b[0m\n\u001b[1;37m               ^\u001b[0m\n\u001b[1;31mSyntaxError\u001b[0m\u001b[1;31m:\u001b[0m invalid syntax\n"
     ]
    }
   ],
   "source": [
    "#Command line ineterface - run in command bar\n",
    "# pwd - print working directory\n",
    "# cd - change directory\n",
    "# ls - list out? (lists files in folder)\n",
    "# cd ./.. moves back to previous folder\n",
    "# mkdir - creates a new folder\n"
   ]
  },
  {
   "cell_type": "code",
   "execution_count": 2,
   "metadata": {},
   "outputs": [],
   "source": [
    "#repositories are different file folders on github. They are places to store things. In short, repositories are \"repo\"\n",
    "#new projects warrant new repositories because it is good practice and it just makes sense. \n",
    "#concept called a branch. By default, each new depository is created with one \"master\" branch. From the master branch\n",
    "# you can make subsequent branches off those - Master is above branch 1, branch 2, branch 3. Each person works on a separate branch. \n",
    "# When you like your code and want it to be uploaded to the master, you do a pull request and then that content gets updated into the master file. \n",
    "#It then becomes the new master and you can keep track of new changes. \n",
    "#When you fork, you are making a branch from someone else's repository. \n",
    "#For those who have forked it or have branches in your repository, you can view their own branches and see their work\n",
    "#When doing a pull request, you generally accept or reject everything. When merging, you do it line by line. \n"
   ]
  },
  {
   "cell_type": "code",
   "execution_count": null,
   "metadata": {},
   "outputs": [],
   "source": [
    "#Each time someone updates their own branch, you have a version of it. If they make a mistake, it's no biggie. Every single save is effectively a branch of sorts\n",
    "#When you create a repository, you are creating a remote folder - it is a repository in the github cloud server. When you do a git clone,\n",
    "# you are transferring the remote folder to your local desktop. \n",
    "#When you change something in the local machine, you then have to update your remote. When you change your remote, you must update your local. \n",
    "#BASICALLY you \"pull\" changes from cloud to local - git pull. Whereas when you are updating your remote file from the local one, \n",
    "#it's called a git push because you \"push\" the files up\n",
    "#git status tells you what's to be uploaded\n",
    "#git add . adds all untracked files\n",
    "#git add *file* adds specific file\n",
    "#git commit. WHen you're working in a collaborative environment, you can add '-m \"descriptive message about new changes\"'\n",
    "#git push origin master - pushes things to the origin"
   ]
  }
 ],
 "metadata": {
  "kernelspec": {
   "display_name": "Python 3",
   "language": "python",
   "name": "python3"
  },
  "language_info": {
   "codemirror_mode": {
    "name": "ipython",
    "version": 3
   },
   "file_extension": ".py",
   "mimetype": "text/x-python",
   "name": "python",
   "nbconvert_exporter": "python",
   "pygments_lexer": "ipython3",
   "version": "3.7.0"
  }
 },
 "nbformat": 4,
 "nbformat_minor": 2
}
